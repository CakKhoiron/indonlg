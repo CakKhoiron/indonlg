{
 "cells": [
  {
   "cell_type": "markdown",
   "id": "68fb35cd-49a2-4c56-9b88-c5f59e8266b1",
   "metadata": {},
   "source": [
    "# Finetuning ID -> SU using IndoBART"
   ]
  },
  {
   "cell_type": "code",
   "execution_count": 1,
   "id": "8dbf957d-5ecd-4bb3-9783-924e3616b596",
   "metadata": {
    "scrolled": true,
    "tags": []
   },
   "outputs": [],
   "source": [
    "import os, sys\n",
    "sys.path.append('../')\n",
    "os.chdir('../')\n",
    "\n",
    "import torch\n",
    "import shutil\n",
    "import random\n",
    "import numpy as np\n",
    "import pandas as pd\n",
    "from torch import optim\n",
    "from transformers import MBartForConditionalGeneration\n",
    "\n",
    "from indobenchmark import IndoNLGTokenizer\n",
    "from utils.train_eval import train, evaluate\n",
    "from utils.metrics import generation_metrics_fn\n",
    "from utils.forward_fn import forward_generation\n",
    "from utils.data_utils import MachineTranslationDataset, GenerationDataLoader"
   ]
  },
  {
   "cell_type": "code",
   "execution_count": 2,
   "id": "0598507a-1fc4-433e-bbce-1d5356b6e5b7",
   "metadata": {},
   "outputs": [],
   "source": [
    "###\n",
    "# common functions\n",
    "###\n",
    "def set_seed(seed):\n",
    "    random.seed(seed)\n",
    "    np.random.seed(seed)\n",
    "    torch.manual_seed(seed)\n",
    "    torch.cuda.manual_seed(seed)\n",
    "    \n",
    "def count_param(module, trainable=False):\n",
    "    if trainable:\n",
    "        return sum(p.numel() for p in module.parameters() if p.requires_grad)\n",
    "    else:\n",
    "        return sum(p.numel() for p in module.parameters())\n",
    "    \n",
    "# Set random seed\n",
    "# set_seed(26092020)"
   ]
  },
  {
   "cell_type": "markdown",
   "id": "a7b9ab88-51d3-42dc-b982-954141c25270",
   "metadata": {},
   "source": [
    "# Load Model"
   ]
  },
  {
   "cell_type": "code",
   "execution_count": 3,
   "id": "3ed9ab7a-a6d6-4b02-a864-ce18fbcbba1a",
   "metadata": {
    "scrolled": true,
    "tags": []
   },
   "outputs": [
    {
     "name": "stderr",
     "output_type": "stream",
     "text": [
      "Special tokens have been added in the vocabulary, make sure the associated word embedding are fine-tuned or trained.\n"
     ]
    },
    {
     "data": {
      "text/plain": [
       "MBartForConditionalGeneration(\n",
       "  (model): MBartModel(\n",
       "    (shared): Embedding(40004, 768, padding_idx=1)\n",
       "    (encoder): MBartEncoder(\n",
       "      (embed_tokens): Embedding(40004, 768, padding_idx=1)\n",
       "      (embed_positions): MBartLearnedPositionalEmbedding(1026, 768, padding_idx=1)\n",
       "      (layers): ModuleList(\n",
       "        (0): MBartEncoderLayer(\n",
       "          (self_attn): MBartAttention(\n",
       "            (k_proj): Linear(in_features=768, out_features=768, bias=True)\n",
       "            (v_proj): Linear(in_features=768, out_features=768, bias=True)\n",
       "            (q_proj): Linear(in_features=768, out_features=768, bias=True)\n",
       "            (out_proj): Linear(in_features=768, out_features=768, bias=True)\n",
       "          )\n",
       "          (self_attn_layer_norm): LayerNorm((768,), eps=1e-05, elementwise_affine=True)\n",
       "          (fc1): Linear(in_features=768, out_features=3072, bias=True)\n",
       "          (fc2): Linear(in_features=3072, out_features=768, bias=True)\n",
       "          (final_layer_norm): LayerNorm((768,), eps=1e-05, elementwise_affine=True)\n",
       "        )\n",
       "        (1): MBartEncoderLayer(\n",
       "          (self_attn): MBartAttention(\n",
       "            (k_proj): Linear(in_features=768, out_features=768, bias=True)\n",
       "            (v_proj): Linear(in_features=768, out_features=768, bias=True)\n",
       "            (q_proj): Linear(in_features=768, out_features=768, bias=True)\n",
       "            (out_proj): Linear(in_features=768, out_features=768, bias=True)\n",
       "          )\n",
       "          (self_attn_layer_norm): LayerNorm((768,), eps=1e-05, elementwise_affine=True)\n",
       "          (fc1): Linear(in_features=768, out_features=3072, bias=True)\n",
       "          (fc2): Linear(in_features=3072, out_features=768, bias=True)\n",
       "          (final_layer_norm): LayerNorm((768,), eps=1e-05, elementwise_affine=True)\n",
       "        )\n",
       "        (2): MBartEncoderLayer(\n",
       "          (self_attn): MBartAttention(\n",
       "            (k_proj): Linear(in_features=768, out_features=768, bias=True)\n",
       "            (v_proj): Linear(in_features=768, out_features=768, bias=True)\n",
       "            (q_proj): Linear(in_features=768, out_features=768, bias=True)\n",
       "            (out_proj): Linear(in_features=768, out_features=768, bias=True)\n",
       "          )\n",
       "          (self_attn_layer_norm): LayerNorm((768,), eps=1e-05, elementwise_affine=True)\n",
       "          (fc1): Linear(in_features=768, out_features=3072, bias=True)\n",
       "          (fc2): Linear(in_features=3072, out_features=768, bias=True)\n",
       "          (final_layer_norm): LayerNorm((768,), eps=1e-05, elementwise_affine=True)\n",
       "        )\n",
       "        (3): MBartEncoderLayer(\n",
       "          (self_attn): MBartAttention(\n",
       "            (k_proj): Linear(in_features=768, out_features=768, bias=True)\n",
       "            (v_proj): Linear(in_features=768, out_features=768, bias=True)\n",
       "            (q_proj): Linear(in_features=768, out_features=768, bias=True)\n",
       "            (out_proj): Linear(in_features=768, out_features=768, bias=True)\n",
       "          )\n",
       "          (self_attn_layer_norm): LayerNorm((768,), eps=1e-05, elementwise_affine=True)\n",
       "          (fc1): Linear(in_features=768, out_features=3072, bias=True)\n",
       "          (fc2): Linear(in_features=3072, out_features=768, bias=True)\n",
       "          (final_layer_norm): LayerNorm((768,), eps=1e-05, elementwise_affine=True)\n",
       "        )\n",
       "        (4): MBartEncoderLayer(\n",
       "          (self_attn): MBartAttention(\n",
       "            (k_proj): Linear(in_features=768, out_features=768, bias=True)\n",
       "            (v_proj): Linear(in_features=768, out_features=768, bias=True)\n",
       "            (q_proj): Linear(in_features=768, out_features=768, bias=True)\n",
       "            (out_proj): Linear(in_features=768, out_features=768, bias=True)\n",
       "          )\n",
       "          (self_attn_layer_norm): LayerNorm((768,), eps=1e-05, elementwise_affine=True)\n",
       "          (fc1): Linear(in_features=768, out_features=3072, bias=True)\n",
       "          (fc2): Linear(in_features=3072, out_features=768, bias=True)\n",
       "          (final_layer_norm): LayerNorm((768,), eps=1e-05, elementwise_affine=True)\n",
       "        )\n",
       "        (5): MBartEncoderLayer(\n",
       "          (self_attn): MBartAttention(\n",
       "            (k_proj): Linear(in_features=768, out_features=768, bias=True)\n",
       "            (v_proj): Linear(in_features=768, out_features=768, bias=True)\n",
       "            (q_proj): Linear(in_features=768, out_features=768, bias=True)\n",
       "            (out_proj): Linear(in_features=768, out_features=768, bias=True)\n",
       "          )\n",
       "          (self_attn_layer_norm): LayerNorm((768,), eps=1e-05, elementwise_affine=True)\n",
       "          (fc1): Linear(in_features=768, out_features=3072, bias=True)\n",
       "          (fc2): Linear(in_features=3072, out_features=768, bias=True)\n",
       "          (final_layer_norm): LayerNorm((768,), eps=1e-05, elementwise_affine=True)\n",
       "        )\n",
       "      )\n",
       "      (layernorm_embedding): LayerNorm((768,), eps=1e-05, elementwise_affine=True)\n",
       "      (layer_norm): LayerNorm((768,), eps=1e-05, elementwise_affine=True)\n",
       "    )\n",
       "    (decoder): MBartDecoder(\n",
       "      (embed_tokens): Embedding(40004, 768, padding_idx=1)\n",
       "      (embed_positions): MBartLearnedPositionalEmbedding(1026, 768, padding_idx=1)\n",
       "      (layers): ModuleList(\n",
       "        (0): MBartDecoderLayer(\n",
       "          (self_attn): MBartAttention(\n",
       "            (k_proj): Linear(in_features=768, out_features=768, bias=True)\n",
       "            (v_proj): Linear(in_features=768, out_features=768, bias=True)\n",
       "            (q_proj): Linear(in_features=768, out_features=768, bias=True)\n",
       "            (out_proj): Linear(in_features=768, out_features=768, bias=True)\n",
       "          )\n",
       "          (self_attn_layer_norm): LayerNorm((768,), eps=1e-05, elementwise_affine=True)\n",
       "          (encoder_attn): MBartAttention(\n",
       "            (k_proj): Linear(in_features=768, out_features=768, bias=True)\n",
       "            (v_proj): Linear(in_features=768, out_features=768, bias=True)\n",
       "            (q_proj): Linear(in_features=768, out_features=768, bias=True)\n",
       "            (out_proj): Linear(in_features=768, out_features=768, bias=True)\n",
       "          )\n",
       "          (encoder_attn_layer_norm): LayerNorm((768,), eps=1e-05, elementwise_affine=True)\n",
       "          (fc1): Linear(in_features=768, out_features=3072, bias=True)\n",
       "          (fc2): Linear(in_features=3072, out_features=768, bias=True)\n",
       "          (final_layer_norm): LayerNorm((768,), eps=1e-05, elementwise_affine=True)\n",
       "        )\n",
       "        (1): MBartDecoderLayer(\n",
       "          (self_attn): MBartAttention(\n",
       "            (k_proj): Linear(in_features=768, out_features=768, bias=True)\n",
       "            (v_proj): Linear(in_features=768, out_features=768, bias=True)\n",
       "            (q_proj): Linear(in_features=768, out_features=768, bias=True)\n",
       "            (out_proj): Linear(in_features=768, out_features=768, bias=True)\n",
       "          )\n",
       "          (self_attn_layer_norm): LayerNorm((768,), eps=1e-05, elementwise_affine=True)\n",
       "          (encoder_attn): MBartAttention(\n",
       "            (k_proj): Linear(in_features=768, out_features=768, bias=True)\n",
       "            (v_proj): Linear(in_features=768, out_features=768, bias=True)\n",
       "            (q_proj): Linear(in_features=768, out_features=768, bias=True)\n",
       "            (out_proj): Linear(in_features=768, out_features=768, bias=True)\n",
       "          )\n",
       "          (encoder_attn_layer_norm): LayerNorm((768,), eps=1e-05, elementwise_affine=True)\n",
       "          (fc1): Linear(in_features=768, out_features=3072, bias=True)\n",
       "          (fc2): Linear(in_features=3072, out_features=768, bias=True)\n",
       "          (final_layer_norm): LayerNorm((768,), eps=1e-05, elementwise_affine=True)\n",
       "        )\n",
       "        (2): MBartDecoderLayer(\n",
       "          (self_attn): MBartAttention(\n",
       "            (k_proj): Linear(in_features=768, out_features=768, bias=True)\n",
       "            (v_proj): Linear(in_features=768, out_features=768, bias=True)\n",
       "            (q_proj): Linear(in_features=768, out_features=768, bias=True)\n",
       "            (out_proj): Linear(in_features=768, out_features=768, bias=True)\n",
       "          )\n",
       "          (self_attn_layer_norm): LayerNorm((768,), eps=1e-05, elementwise_affine=True)\n",
       "          (encoder_attn): MBartAttention(\n",
       "            (k_proj): Linear(in_features=768, out_features=768, bias=True)\n",
       "            (v_proj): Linear(in_features=768, out_features=768, bias=True)\n",
       "            (q_proj): Linear(in_features=768, out_features=768, bias=True)\n",
       "            (out_proj): Linear(in_features=768, out_features=768, bias=True)\n",
       "          )\n",
       "          (encoder_attn_layer_norm): LayerNorm((768,), eps=1e-05, elementwise_affine=True)\n",
       "          (fc1): Linear(in_features=768, out_features=3072, bias=True)\n",
       "          (fc2): Linear(in_features=3072, out_features=768, bias=True)\n",
       "          (final_layer_norm): LayerNorm((768,), eps=1e-05, elementwise_affine=True)\n",
       "        )\n",
       "        (3): MBartDecoderLayer(\n",
       "          (self_attn): MBartAttention(\n",
       "            (k_proj): Linear(in_features=768, out_features=768, bias=True)\n",
       "            (v_proj): Linear(in_features=768, out_features=768, bias=True)\n",
       "            (q_proj): Linear(in_features=768, out_features=768, bias=True)\n",
       "            (out_proj): Linear(in_features=768, out_features=768, bias=True)\n",
       "          )\n",
       "          (self_attn_layer_norm): LayerNorm((768,), eps=1e-05, elementwise_affine=True)\n",
       "          (encoder_attn): MBartAttention(\n",
       "            (k_proj): Linear(in_features=768, out_features=768, bias=True)\n",
       "            (v_proj): Linear(in_features=768, out_features=768, bias=True)\n",
       "            (q_proj): Linear(in_features=768, out_features=768, bias=True)\n",
       "            (out_proj): Linear(in_features=768, out_features=768, bias=True)\n",
       "          )\n",
       "          (encoder_attn_layer_norm): LayerNorm((768,), eps=1e-05, elementwise_affine=True)\n",
       "          (fc1): Linear(in_features=768, out_features=3072, bias=True)\n",
       "          (fc2): Linear(in_features=3072, out_features=768, bias=True)\n",
       "          (final_layer_norm): LayerNorm((768,), eps=1e-05, elementwise_affine=True)\n",
       "        )\n",
       "        (4): MBartDecoderLayer(\n",
       "          (self_attn): MBartAttention(\n",
       "            (k_proj): Linear(in_features=768, out_features=768, bias=True)\n",
       "            (v_proj): Linear(in_features=768, out_features=768, bias=True)\n",
       "            (q_proj): Linear(in_features=768, out_features=768, bias=True)\n",
       "            (out_proj): Linear(in_features=768, out_features=768, bias=True)\n",
       "          )\n",
       "          (self_attn_layer_norm): LayerNorm((768,), eps=1e-05, elementwise_affine=True)\n",
       "          (encoder_attn): MBartAttention(\n",
       "            (k_proj): Linear(in_features=768, out_features=768, bias=True)\n",
       "            (v_proj): Linear(in_features=768, out_features=768, bias=True)\n",
       "            (q_proj): Linear(in_features=768, out_features=768, bias=True)\n",
       "            (out_proj): Linear(in_features=768, out_features=768, bias=True)\n",
       "          )\n",
       "          (encoder_attn_layer_norm): LayerNorm((768,), eps=1e-05, elementwise_affine=True)\n",
       "          (fc1): Linear(in_features=768, out_features=3072, bias=True)\n",
       "          (fc2): Linear(in_features=3072, out_features=768, bias=True)\n",
       "          (final_layer_norm): LayerNorm((768,), eps=1e-05, elementwise_affine=True)\n",
       "        )\n",
       "        (5): MBartDecoderLayer(\n",
       "          (self_attn): MBartAttention(\n",
       "            (k_proj): Linear(in_features=768, out_features=768, bias=True)\n",
       "            (v_proj): Linear(in_features=768, out_features=768, bias=True)\n",
       "            (q_proj): Linear(in_features=768, out_features=768, bias=True)\n",
       "            (out_proj): Linear(in_features=768, out_features=768, bias=True)\n",
       "          )\n",
       "          (self_attn_layer_norm): LayerNorm((768,), eps=1e-05, elementwise_affine=True)\n",
       "          (encoder_attn): MBartAttention(\n",
       "            (k_proj): Linear(in_features=768, out_features=768, bias=True)\n",
       "            (v_proj): Linear(in_features=768, out_features=768, bias=True)\n",
       "            (q_proj): Linear(in_features=768, out_features=768, bias=True)\n",
       "            (out_proj): Linear(in_features=768, out_features=768, bias=True)\n",
       "          )\n",
       "          (encoder_attn_layer_norm): LayerNorm((768,), eps=1e-05, elementwise_affine=True)\n",
       "          (fc1): Linear(in_features=768, out_features=3072, bias=True)\n",
       "          (fc2): Linear(in_features=3072, out_features=768, bias=True)\n",
       "          (final_layer_norm): LayerNorm((768,), eps=1e-05, elementwise_affine=True)\n",
       "        )\n",
       "      )\n",
       "      (layernorm_embedding): LayerNorm((768,), eps=1e-05, elementwise_affine=True)\n",
       "      (layer_norm): LayerNorm((768,), eps=1e-05, elementwise_affine=True)\n",
       "    )\n",
       "  )\n",
       "  (lm_head): Linear(in_features=768, out_features=40004, bias=False)\n",
       ")"
      ]
     },
     "execution_count": 3,
     "metadata": {},
     "output_type": "execute_result"
    }
   ],
   "source": [
    "bart_model = MBartForConditionalGeneration.from_pretrained('indobenchmark/indobart-v2')\n",
    "tokenizer = IndoNLGTokenizer.from_pretrained('indobenchmark/indobart-v2')\n",
    "\n",
    "model = bart_model\n",
    "model"
   ]
  },
  {
   "cell_type": "code",
   "execution_count": 4,
   "id": "e2992106-cf65-4804-a393-d0a49026a659",
   "metadata": {},
   "outputs": [
    {
     "data": {
      "text/plain": [
       "131543040"
      ]
     },
     "execution_count": 4,
     "metadata": {},
     "output_type": "execute_result"
    }
   ],
   "source": [
    "count_param(model)"
   ]
  },
  {
   "cell_type": "markdown",
   "id": "6b04ba0a-b746-4188-9f2c-4366a5dd5882",
   "metadata": {},
   "source": [
    "# Prepare Dataset"
   ]
  },
  {
   "cell_type": "code",
   "execution_count": 5,
   "id": "b4a860b4-72b7-4432-8d32-4e6aea69ff26",
   "metadata": {},
   "outputs": [],
   "source": [
    "# configs and args\n",
    "\n",
    "lr = 1e-4\n",
    "gamma = 0.9\n",
    "lower = True\n",
    "step_size = 1\n",
    "beam_size = 5\n",
    "max_norm = 10\n",
    "early_stop = 5\n",
    "\n",
    "max_seq_len = 512\n",
    "grad_accumulate = 1\n",
    "no_special_token = False\n",
    "swap_source_target = True\n",
    "model_type = 'indo-bart'\n",
    "valid_criterion = 'SacreBLEU'\n",
    "\n",
    "separator_id = 4\n",
    "speaker_1_id = 5\n",
    "speaker_2_id = 6\n",
    "\n",
    "train_batch_size = 8\n",
    "valid_batch_size = 8\n",
    "test_batch_size = 8\n",
    "\n",
    "source_lang = \"[indonesian]\"\n",
    "target_lang = \"[sundanese]\"\n",
    "\n",
    "optimizer = optim.Adam(model.parameters(), lr=lr)\n",
    "src_lid = tokenizer.special_tokens_to_ids[source_lang]\n",
    "tgt_lid = tokenizer.special_tokens_to_ids[target_lang]\n",
    "\n",
    "model.config.decoder_start_token_id = tgt_lid\n",
    "\n",
    "# Make sure cuda is deterministic\n",
    "torch.backends.cudnn.deterministic = True\n",
    "\n",
    "# create directory\n",
    "model_dir = './save/MT_SUNIBS_INZNTV/example_id_su'\n",
    "if not os.path.exists(model_dir):\n",
    "    os.makedirs(model_dir, exist_ok=True)\n",
    "\n",
    "device = 'cuda0'\n",
    "# set a specific cuda device\n",
    "if \"cuda\" in device:\n",
    "    torch.cuda.set_device(int(device[4:]))\n",
    "    device = \"cuda\"\n",
    "    model = model.cuda()"
   ]
  },
  {
   "cell_type": "code",
   "execution_count": 6,
   "id": "d5b2d855-7293-4577-861b-2235b7ac59f5",
   "metadata": {},
   "outputs": [],
   "source": [
    "train_dataset_path = './dataset/MT_SUNIBS_INZNTV/train_preprocess.json'\n",
    "valid_dataset_path = './dataset/MT_SUNIBS_INZNTV/valid_preprocess.json'\n",
    "test_dataset_path = './dataset/MT_SUNIBS_INZNTV/test_preprocess.json'\n",
    "\n",
    "train_dataset = MachineTranslationDataset(train_dataset_path, tokenizer, lowercase=lower, no_special_token=no_special_token, \n",
    "                                            speaker_1_id=speaker_1_id, speaker_2_id=speaker_2_id, separator_id=separator_id,\n",
    "                                            max_token_length=max_seq_len, swap_source_target=swap_source_target)\n",
    "valid_dataset = MachineTranslationDataset(valid_dataset_path, tokenizer, lowercase=lower, no_special_token=no_special_token, \n",
    "                                            speaker_1_id=speaker_1_id, speaker_2_id=speaker_2_id, separator_id=separator_id,\n",
    "                                            max_token_length=max_seq_len, swap_source_target=swap_source_target)\n",
    "test_dataset = MachineTranslationDataset(test_dataset_path, tokenizer, lowercase=lower, no_special_token=no_special_token, \n",
    "                                            speaker_1_id=speaker_1_id, speaker_2_id=speaker_2_id, separator_id=separator_id,\n",
    "                                            max_token_length=max_seq_len, swap_source_target=swap_source_target)\n",
    "\n",
    "train_loader = GenerationDataLoader(dataset=train_dataset, model_type=model_type, tokenizer=tokenizer, max_seq_len=max_seq_len, \n",
    "                                    batch_size=train_batch_size, src_lid_token_id=src_lid, tgt_lid_token_id=tgt_lid, num_workers=8, shuffle=True)  \n",
    "valid_loader = GenerationDataLoader(dataset=valid_dataset, model_type=model_type, tokenizer=tokenizer, max_seq_len=max_seq_len, \n",
    "                                    batch_size=valid_batch_size, src_lid_token_id=src_lid, tgt_lid_token_id=tgt_lid, num_workers=8, shuffle=False)\n",
    "test_loader = GenerationDataLoader(dataset=test_dataset, model_type=model_type, tokenizer=tokenizer, max_seq_len=max_seq_len, \n",
    "                                   batch_size=test_batch_size, src_lid_token_id=src_lid, tgt_lid_token_id=tgt_lid, num_workers=8, shuffle=False)"
   ]
  },
  {
   "cell_type": "markdown",
   "id": "fb7d5a15-702a-4905-baba-9b80e0d8950e",
   "metadata": {},
   "source": [
    "# Test model to generate sequences"
   ]
  },
  {
   "cell_type": "code",
   "execution_count": 7,
   "id": "05dcbc78-d5c8-4094-84e4-dd6b0abb35c8",
   "metadata": {
    "tags": []
   },
   "outputs": [
    {
     "name": "stderr",
     "output_type": "stream",
     "text": [
      "2021-10-24 21:20:06.205871: I tensorflow/stream_executor/platform/default/dso_loader.cc:49] Successfully opened dynamic library libcudart.so.11.0\n"
     ]
    },
    {
     "name": "stdout",
     "output_type": "stream",
     "text": [
      "<s> aku pergi ke toko obat membeli <mask> [indonesian]\n",
      "<s> aku pergi ke toko obat membeli obat.\n"
     ]
    }
   ],
   "source": [
    "inputs = ['aku pergi ke toko obat membeli <mask>']\n",
    "bart_input = tokenizer.prepare_input_for_generation(inputs, return_tensors='pt',\n",
    "                                         lang_token = '[indonesian]', decoder_lang_token='[indonesian]')\n",
    "\n",
    "bart_input.to(device)\n",
    "bart_out = model(**bart_input)\n",
    "print(tokenizer.decode(bart_input['input_ids'][0]))\n",
    "print(tokenizer.decode(bart_out.logits.topk(1).indices[:,:].squeeze()))"
   ]
  },
  {
   "cell_type": "code",
   "execution_count": 8,
   "id": "deb2e5af-6aa8-40db-b331-b3cf4f8b4d8a",
   "metadata": {},
   "outputs": [
    {
     "name": "stdout",
     "output_type": "stream",
     "text": [
      "<s> aku menyang pasar karo <mask> [javanese]\n",
      "<s> aku menyang pasar karo tuku </s>\n"
     ]
    }
   ],
   "source": [
    "inputs = ['aku menyang pasar karo <mask>']\n",
    "bart_input = tokenizer.prepare_input_for_generation(inputs, return_tensors='pt',\n",
    "                                         lang_token = '[javanese]', decoder_lang_token='[javanese]')\n",
    "\n",
    "bart_input.to(device)\n",
    "bart_out = bart_model(**bart_input)\n",
    "print(tokenizer.decode(bart_input['input_ids'][0]))\n",
    "print(tokenizer.decode(bart_out.logits.topk(1).indices[:,:].squeeze()))"
   ]
  },
  {
   "cell_type": "code",
   "execution_count": 9,
   "id": "b1b37a52-c354-4bfd-ac84-e2220ff511b2",
   "metadata": {},
   "outputs": [
    {
     "name": "stdout",
     "output_type": "stream",
     "text": [
      "<s> kuring ka pasar senen meuli daging <mask> [sundanese]\n",
      "<s> kuring ka pasar senen meuli daging sapi.\n"
     ]
    }
   ],
   "source": [
    "inputs = ['kuring ka pasar senen meuli daging <mask>']\n",
    "bart_input = tokenizer.prepare_input_for_generation(inputs, return_tensors='pt',\n",
    "                                         lang_token = '[sundanese]', decoder_lang_token='[sundanese]')\n",
    "\n",
    "bart_input.to(device)\n",
    "bart_out = bart_model(**bart_input)\n",
    "print(tokenizer.decode(bart_input['input_ids'][0]))\n",
    "print(tokenizer.decode(bart_out.logits.topk(1).indices[:,:].squeeze()))"
   ]
  },
  {
   "cell_type": "markdown",
   "id": "1c536a51-da36-4eb1-ad8d-3709ccf04b35",
   "metadata": {},
   "source": [
    "# Test model to translate"
   ]
  },
  {
   "cell_type": "code",
   "execution_count": 10,
   "id": "c7129644-069a-402f-9c5a-ff8d7ddc553f",
   "metadata": {},
   "outputs": [
    {
     "name": "stderr",
     "output_type": "stream",
     "text": [
      "TESTING... : 100%|███████████████████████████████████████████████████████████████████████████████████████████████████████████████████| 150/150 [01:30<00:00,  1.65it/s]\n"
     ]
    }
   ],
   "source": [
    "test_loss, test_metrics, test_hyp, test_label = evaluate(model, data_loader=test_loader, forward_fn=forward_generation, \n",
    "                                                         metrics_fn=generation_metrics_fn, model_type=model_type, \n",
    "                                                         tokenizer=tokenizer, beam_size=beam_size, \n",
    "                                                         max_seq_len=max_seq_len, is_test=True, \n",
    "                                                         device='cuda')"
   ]
  },
  {
   "cell_type": "code",
   "execution_count": 11,
   "id": "2b8d8625-b165-4a00-b232-fba3757a0ae1",
   "metadata": {},
   "outputs": [
    {
     "name": "stdout",
     "output_type": "stream",
     "text": [
      "== Prediction Result ==\n",
      "                                                 hyp  \\\n",
      "0  memang aku tidak sadar akan sesuatu, tetapi bu...   \n",
      "1                 mereka semua makan sampai kenyang.   \n",
      "2  kita ini buatan allah, diciptakan dalam kristu...   \n",
      "3  orang suci semuanya suci ; tetapi bagi orang n...   \n",
      "4  pergilah petrus dan yohanes kepada teman - t e...   \n",
      "\n",
      "                                               label  \n",
      "0  da teu terang naon - na on, tur can tangtu sim...  \n",
      "1     terus kabeh dala lah ar nepi ka sare ube uhna.  \n",
      "2  sabab urang mah darma dad am elan allah, anu g...  \n",
      "3  pikeun anu hatena suci mah, sagala ge suci. sa...  \n",
      "4  sanggeus leupas, petrus jeung yahya nep angan ...  \n",
      "\n",
      "== Model Performance ==\n",
      "           BLEU  SacreBLEU    ROUGE1    ROUGE2    ROUGEL  ROUGELsum\n",
      "count  1.000000   1.000000  1.000000  1.000000  1.000000   1.000000\n",
      "mean   1.908154   1.931405  8.141883  1.934178  7.757669   7.756262\n",
      "std         NaN        NaN       NaN       NaN       NaN        NaN\n",
      "min    1.908154   1.931405  8.141883  1.934178  7.757669   7.756262\n",
      "25%    1.908154   1.931405  8.141883  1.934178  7.757669   7.756262\n",
      "50%    1.908154   1.931405  8.141883  1.934178  7.757669   7.756262\n",
      "75%    1.908154   1.931405  8.141883  1.934178  7.757669   7.756262\n",
      "max    1.908154   1.931405  8.141883  1.934178  7.757669   7.756262\n"
     ]
    }
   ],
   "source": [
    "metrics_scores = []\n",
    "result_dfs = []\n",
    "\n",
    "metrics_scores.append(test_metrics)\n",
    "result_dfs.append(pd.DataFrame({\n",
    "    'hyp': test_hyp, \n",
    "    'label': test_label\n",
    "}))\n",
    "\n",
    "result_df = pd.concat(result_dfs)\n",
    "metric_df = pd.DataFrame.from_records(metrics_scores)\n",
    "\n",
    "print('== Prediction Result ==')\n",
    "print(result_df.head())\n",
    "print()\n",
    "\n",
    "print('== Model Performance ==')\n",
    "print(metric_df.describe())\n",
    "\n",
    "result_df.to_csv(model_dir + \"/prediction_result.csv\")\n",
    "metric_df.describe().to_csv(model_dir + \"/evaluation_result.csv\")"
   ]
  },
  {
   "cell_type": "markdown",
   "id": "77f680f4-c4a7-4b59-b3d3-6978107e669e",
   "metadata": {},
   "source": [
    "# Fine Tuning & Evaluation"
   ]
  },
  {
   "cell_type": "code",
   "execution_count": 12,
   "id": "43c9c26d-6768-4229-8ce1-6b306e7fbde0",
   "metadata": {},
   "outputs": [
    {
     "name": "stderr",
     "output_type": "stream",
     "text": [
      "(Epoch 1) TRAIN LOSS:3.4304 LR:0.00010000: 100%|█████████████████████████████████████████████████████████████████████████████████████| 746/746 [01:27<00:00,  8.50it/s]\n"
     ]
    },
    {
     "name": "stdout",
     "output_type": "stream",
     "text": [
      "(Epoch 1) TRAIN LOSS:3.4304 BLEU:26.23 SacreBLEU:28.01 ROUGE1:44.04 ROUGE2:16.91 ROUGEL:39.69 ROUGELsum:39.70 LR:0.00010000\n"
     ]
    },
    {
     "name": "stderr",
     "output_type": "stream",
     "text": [
      "VALID LOSS:2.9696: 100%|█████████████████████████████████████████████████████████████████████████████████████████████████████████████| 100/100 [00:03<00:00, 30.34it/s]\n"
     ]
    },
    {
     "name": "stdout",
     "output_type": "stream",
     "text": [
      "(Epoch 1) VALID LOSS:2.9696 BLEU:18.30 SacreBLEU:18.41 ROUGE1:44.44 ROUGE2:16.90 ROUGEL:40.23 ROUGELsum:40.24\n"
     ]
    },
    {
     "name": "stderr",
     "output_type": "stream",
     "text": [
      "(Epoch 2) TRAIN LOSS:2.5054 LR:0.00009000: 100%|█████████████████████████████████████████████████████████████████████████████████████| 746/746 [01:27<00:00,  8.53it/s]\n"
     ]
    },
    {
     "name": "stdout",
     "output_type": "stream",
     "text": [
      "(Epoch 2) TRAIN LOSS:2.5054 BLEU:32.30 SacreBLEU:34.12 ROUGE1:53.77 ROUGE2:25.40 ROUGEL:49.84 ROUGELsum:49.85 LR:0.00009000\n"
     ]
    },
    {
     "name": "stderr",
     "output_type": "stream",
     "text": [
      "VALID LOSS:2.7967: 100%|█████████████████████████████████████████████████████████████████████████████████████████████████████████████| 100/100 [00:03<00:00, 30.36it/s]\n"
     ]
    },
    {
     "name": "stdout",
     "output_type": "stream",
     "text": [
      "(Epoch 2) VALID LOSS:2.7967 BLEU:20.84 SacreBLEU:21.00 ROUGE1:47.34 ROUGE2:19.72 ROUGEL:43.48 ROUGELsum:43.40\n"
     ]
    },
    {
     "name": "stderr",
     "output_type": "stream",
     "text": [
      "(Epoch 3) TRAIN LOSS:1.9227 LR:0.00008100: 100%|█████████████████████████████████████████████████████████████████████████████████████| 746/746 [01:27<00:00,  8.55it/s]\n"
     ]
    },
    {
     "name": "stdout",
     "output_type": "stream",
     "text": [
      "(Epoch 3) TRAIN LOSS:1.9227 BLEU:38.30 SacreBLEU:39.98 ROUGE1:61.25 ROUGE2:33.59 ROUGEL:57.95 ROUGELsum:57.95 LR:0.00008100\n"
     ]
    },
    {
     "name": "stderr",
     "output_type": "stream",
     "text": [
      "VALID LOSS:2.8188: 100%|█████████████████████████████████████████████████████████████████████████████████████████████████████████████| 100/100 [00:03<00:00, 30.27it/s]\n"
     ]
    },
    {
     "name": "stdout",
     "output_type": "stream",
     "text": [
      "(Epoch 3) VALID LOSS:2.8188 BLEU:21.73 SacreBLEU:21.88 ROUGE1:48.34 ROUGE2:21.01 ROUGEL:44.24 ROUGELsum:44.25\n"
     ]
    },
    {
     "name": "stderr",
     "output_type": "stream",
     "text": [
      "(Epoch 4) TRAIN LOSS:1.4290 LR:0.00007290: 100%|█████████████████████████████████████████████████████████████████████████████████████| 746/746 [01:27<00:00,  8.51it/s]\n"
     ]
    },
    {
     "name": "stdout",
     "output_type": "stream",
     "text": [
      "(Epoch 4) TRAIN LOSS:1.4290 BLEU:45.87 SacreBLEU:47.33 ROUGE1:68.96 ROUGE2:43.63 ROUGEL:66.41 ROUGELsum:66.42 LR:0.00007290\n"
     ]
    },
    {
     "name": "stderr",
     "output_type": "stream",
     "text": [
      "VALID LOSS:2.8847: 100%|█████████████████████████████████████████████████████████████████████████████████████████████████████████████| 100/100 [00:03<00:00, 30.44it/s]\n"
     ]
    },
    {
     "name": "stdout",
     "output_type": "stream",
     "text": [
      "(Epoch 4) VALID LOSS:2.8847 BLEU:22.20 SacreBLEU:22.35 ROUGE1:48.53 ROUGE2:21.48 ROUGEL:44.74 ROUGELsum:44.72\n"
     ]
    },
    {
     "name": "stderr",
     "output_type": "stream",
     "text": [
      "(Epoch 5) TRAIN LOSS:1.0235 LR:0.00006561: 100%|█████████████████████████████████████████████████████████████████████████████████████| 746/746 [01:27<00:00,  8.51it/s]\n"
     ]
    },
    {
     "name": "stdout",
     "output_type": "stream",
     "text": [
      "(Epoch 5) TRAIN LOSS:1.0235 BLEU:55.63 SacreBLEU:56.81 ROUGE1:76.45 ROUGE2:55.40 ROUGEL:74.71 ROUGELsum:74.71 LR:0.00006561\n"
     ]
    },
    {
     "name": "stderr",
     "output_type": "stream",
     "text": [
      "VALID LOSS:2.9807: 100%|█████████████████████████████████████████████████████████████████████████████████████████████████████████████| 100/100 [00:03<00:00, 30.15it/s]\n"
     ]
    },
    {
     "name": "stdout",
     "output_type": "stream",
     "text": [
      "(Epoch 5) VALID LOSS:2.9807 BLEU:21.97 SacreBLEU:22.09 ROUGE1:48.48 ROUGE2:21.40 ROUGEL:44.55 ROUGELsum:44.54\n",
      "count stop: 1\n"
     ]
    },
    {
     "name": "stderr",
     "output_type": "stream",
     "text": [
      "(Epoch 6) TRAIN LOSS:0.7171 LR:0.00005905: 100%|█████████████████████████████████████████████████████████████████████████████████████| 746/746 [01:27<00:00,  8.50it/s]\n"
     ]
    },
    {
     "name": "stdout",
     "output_type": "stream",
     "text": [
      "(Epoch 6) TRAIN LOSS:0.7171 BLEU:66.25 SacreBLEU:67.10 ROUGE1:83.12 ROUGE2:67.38 ROUGEL:82.12 ROUGELsum:82.13 LR:0.00005905\n"
     ]
    },
    {
     "name": "stderr",
     "output_type": "stream",
     "text": [
      "VALID LOSS:3.0801: 100%|█████████████████████████████████████████████████████████████████████████████████████████████████████████████| 100/100 [00:03<00:00, 30.54it/s]\n"
     ]
    },
    {
     "name": "stdout",
     "output_type": "stream",
     "text": [
      "(Epoch 6) VALID LOSS:3.0801 BLEU:22.56 SacreBLEU:22.71 ROUGE1:48.50 ROUGE2:21.68 ROUGEL:45.00 ROUGELsum:44.96\n"
     ]
    },
    {
     "name": "stderr",
     "output_type": "stream",
     "text": [
      "(Epoch 7) TRAIN LOSS:0.5041 LR:0.00005314: 100%|█████████████████████████████████████████████████████████████████████████████████████| 746/746 [01:28<00:00,  8.47it/s]\n"
     ]
    },
    {
     "name": "stdout",
     "output_type": "stream",
     "text": [
      "(Epoch 7) TRAIN LOSS:0.5041 BLEU:75.47 SacreBLEU:76.08 ROUGE1:88.16 ROUGE2:77.03 ROUGEL:87.61 ROUGELsum:87.62 LR:0.00005314\n"
     ]
    },
    {
     "name": "stderr",
     "output_type": "stream",
     "text": [
      "VALID LOSS:3.2027: 100%|█████████████████████████████████████████████████████████████████████████████████████████████████████████████| 100/100 [00:03<00:00, 30.04it/s]\n"
     ]
    },
    {
     "name": "stdout",
     "output_type": "stream",
     "text": [
      "(Epoch 7) VALID LOSS:3.2027 BLEU:22.65 SacreBLEU:22.74 ROUGE1:48.52 ROUGE2:21.79 ROUGEL:44.80 ROUGELsum:44.77\n"
     ]
    },
    {
     "name": "stderr",
     "output_type": "stream",
     "text": [
      "(Epoch 8) TRAIN LOSS:0.3550 LR:0.00004783: 100%|█████████████████████████████████████████████████████████████████████████████████████| 746/746 [01:27<00:00,  8.49it/s]\n"
     ]
    },
    {
     "name": "stdout",
     "output_type": "stream",
     "text": [
      "(Epoch 8) TRAIN LOSS:0.3550 BLEU:82.82 SacreBLEU:83.25 ROUGE1:91.82 ROUGE2:84.26 ROUGEL:91.55 ROUGELsum:91.55 LR:0.00004783\n"
     ]
    },
    {
     "name": "stderr",
     "output_type": "stream",
     "text": [
      "VALID LOSS:3.3027: 100%|█████████████████████████████████████████████████████████████████████████████████████████████████████████████| 100/100 [00:03<00:00, 30.42it/s]\n"
     ]
    },
    {
     "name": "stdout",
     "output_type": "stream",
     "text": [
      "(Epoch 8) VALID LOSS:3.3027 BLEU:22.79 SacreBLEU:22.89 ROUGE1:48.80 ROUGE2:21.99 ROUGEL:45.19 ROUGELsum:45.18\n"
     ]
    },
    {
     "name": "stderr",
     "output_type": "stream",
     "text": [
      "(Epoch 9) TRAIN LOSS:0.2562 LR:0.00004305: 100%|█████████████████████████████████████████████████████████████████████████████████████| 746/746 [01:27<00:00,  8.53it/s]\n"
     ]
    },
    {
     "name": "stdout",
     "output_type": "stream",
     "text": [
      "(Epoch 9) TRAIN LOSS:0.2562 BLEU:87.95 SacreBLEU:88.28 ROUGE1:94.28 ROUGE2:89.06 ROUGEL:94.14 ROUGELsum:94.14 LR:0.00004305\n"
     ]
    },
    {
     "name": "stderr",
     "output_type": "stream",
     "text": [
      "VALID LOSS:3.3950: 100%|█████████████████████████████████████████████████████████████████████████████████████████████████████████████| 100/100 [00:03<00:00, 30.47it/s]\n"
     ]
    },
    {
     "name": "stdout",
     "output_type": "stream",
     "text": [
      "(Epoch 9) VALID LOSS:3.3950 BLEU:22.98 SacreBLEU:23.09 ROUGE1:48.87 ROUGE2:22.24 ROUGEL:45.20 ROUGELsum:45.21\n"
     ]
    },
    {
     "name": "stderr",
     "output_type": "stream",
     "text": [
      "(Epoch 10) TRAIN LOSS:0.1933 LR:0.00003874: 100%|████████████████████████████████████████████████████████████████████████████████████| 746/746 [01:27<00:00,  8.51it/s]\n"
     ]
    },
    {
     "name": "stdout",
     "output_type": "stream",
     "text": [
      "(Epoch 10) TRAIN LOSS:0.1933 BLEU:91.05 SacreBLEU:91.29 ROUGE1:95.86 ROUGE2:91.94 ROUGEL:95.79 ROUGELsum:95.79 LR:0.00003874\n"
     ]
    },
    {
     "name": "stderr",
     "output_type": "stream",
     "text": [
      "VALID LOSS:3.4884: 100%|█████████████████████████████████████████████████████████████████████████████████████████████████████████████| 100/100 [00:03<00:00, 30.51it/s]\n"
     ]
    },
    {
     "name": "stdout",
     "output_type": "stream",
     "text": [
      "(Epoch 10) VALID LOSS:3.4884 BLEU:22.79 SacreBLEU:22.89 ROUGE1:48.58 ROUGE2:21.93 ROUGEL:44.81 ROUGELsum:44.82\n",
      "count stop: 1\n"
     ]
    }
   ],
   "source": [
    "# Train\n",
    "\n",
    "n_epochs = 10\n",
    "\n",
    "train(model, train_loader=train_loader, valid_loader=valid_loader, optimizer=optimizer, \n",
    "      forward_fn=forward_generation, metrics_fn=generation_metrics_fn, valid_criterion=valid_criterion, \n",
    "      tokenizer=tokenizer, n_epochs=n_epochs, evaluate_every=1, early_stop=early_stop, \n",
    "      grad_accum=grad_accumulate, step_size=step_size, gamma=gamma, \n",
    "      max_norm=max_norm, model_type=model_type, beam_size=beam_size,\n",
    "      max_seq_len=max_seq_len, model_dir=model_dir, exp_id=0, fp16=\"\", device=device)"
   ]
  },
  {
   "cell_type": "code",
   "execution_count": 13,
   "id": "442293e2-628d-4fbb-acb2-8f49803120b0",
   "metadata": {},
   "outputs": [
    {
     "data": {
      "text/plain": [
       "<All keys matched successfully>"
      ]
     },
     "execution_count": 13,
     "metadata": {},
     "output_type": "execute_result"
    }
   ],
   "source": [
    "# Load best model\n",
    "model.load_state_dict(torch.load(model_dir + \"/best_model_0.th\"))"
   ]
  },
  {
   "cell_type": "code",
   "execution_count": 14,
   "id": "9fdc5583-a665-414d-acb5-17fcfc373e25",
   "metadata": {},
   "outputs": [
    {
     "name": "stderr",
     "output_type": "stream",
     "text": [
      "TESTING... : 100%|███████████████████████████████████████████████████████████████████████████████████████████████████████████████████| 150/150 [01:34<00:00,  1.59it/s]\n"
     ]
    }
   ],
   "source": [
    "# Evaluate\n",
    "test_loss, test_metrics, test_hyp, test_label = evaluate(model, data_loader=test_loader, forward_fn=forward_generation, \n",
    "                                                         metrics_fn=generation_metrics_fn, model_type=model_type, \n",
    "                                                         tokenizer=tokenizer, beam_size=beam_size, \n",
    "                                                         max_seq_len=max_seq_len, is_test=True, \n",
    "                                                         device='cuda')"
   ]
  },
  {
   "cell_type": "code",
   "execution_count": 15,
   "id": "0fa4fdd8-0364-442e-b93f-f4f668ec5bde",
   "metadata": {},
   "outputs": [
    {
     "name": "stdout",
     "output_type": "stream",
     "text": [
      "== Prediction Result ==\n",
      "                                                 hyp  \\\n",
      "0  memang, simkuring mah teu sadar kana hal - hal...   \n",
      "1  br ek bae, jelema - jel ema teh, dala lah ar s...   \n",
      "2  jadi, urang teh beunang nyieun kah adean anu a...   \n",
      "3  sakur nu suci, kabeh ge, suci. tapi sakur nu n...   \n",
      "4  sanggeus dib ebas keun, petrus jeung yahya dij...   \n",
      "\n",
      "                                               label  \n",
      "0  da teu terang naon - na on, tur can tangtu sim...  \n",
      "1     terus kabeh dala lah ar nepi ka sare ube uhna.  \n",
      "2  sabab urang mah darma dad am elan allah, anu g...  \n",
      "3  pikeun anu hatena suci mah, sagala ge suci. sa...  \n",
      "4  sanggeus leupas, petrus jeung yahya nep angan ...  \n",
      "\n",
      "== Model Performance ==\n",
      "            BLEU  SacreBLEU     ROUGE1     ROUGE2     ROUGEL  ROUGELsum\n",
      "count   1.000000   1.000000   1.000000   1.000000   1.000000    1.00000\n",
      "mean   15.120575  15.126499  36.259844  16.285915  31.335974   31.33573\n",
      "std          NaN        NaN        NaN        NaN        NaN        NaN\n",
      "min    15.120575  15.126499  36.259844  16.285915  31.335974   31.33573\n",
      "25%    15.120575  15.126499  36.259844  16.285915  31.335974   31.33573\n",
      "50%    15.120575  15.126499  36.259844  16.285915  31.335974   31.33573\n",
      "75%    15.120575  15.126499  36.259844  16.285915  31.335974   31.33573\n",
      "max    15.120575  15.126499  36.259844  16.285915  31.335974   31.33573\n"
     ]
    }
   ],
   "source": [
    "metrics_scores = []\n",
    "result_dfs = []\n",
    "\n",
    "metrics_scores.append(test_metrics)\n",
    "result_dfs.append(pd.DataFrame({\n",
    "    'hyp': test_hyp, \n",
    "    'label': test_label\n",
    "}))\n",
    "\n",
    "result_df = pd.concat(result_dfs)\n",
    "metric_df = pd.DataFrame.from_records(metrics_scores)\n",
    "\n",
    "print('== Prediction Result ==')\n",
    "print(result_df.head())\n",
    "print()\n",
    "\n",
    "print('== Model Performance ==')\n",
    "print(metric_df.describe())\n",
    "\n",
    "result_df.to_csv(model_dir + \"/prediction_result.csv\")\n",
    "metric_df.describe().to_csv(model_dir + \"/evaluation_result.csv\")"
   ]
  }
 ],
 "metadata": {
  "kernelspec": {
   "display_name": "Python 3 (ipykernel)",
   "language": "python",
   "name": "python3"
  },
  "language_info": {
   "codemirror_mode": {
    "name": "ipython",
    "version": 3
   },
   "file_extension": ".py",
   "mimetype": "text/x-python",
   "name": "python",
   "nbconvert_exporter": "python",
   "pygments_lexer": "ipython3",
   "version": "3.8.8"
  }
 },
 "nbformat": 4,
 "nbformat_minor": 5
}
