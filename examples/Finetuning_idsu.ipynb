{
 "cells": [
  {
   "cell_type": "markdown",
   "id": "68fb35cd-49a2-4c56-9b88-c5f59e8266b1",
   "metadata": {},
   "source": [
    "# Finetuning ID -> SU"
   ]
  },
  {
   "cell_type": "code",
   "execution_count": 1,
   "id": "8dbf957d-5ecd-4bb3-9783-924e3616b596",
   "metadata": {
    "scrolled": true,
    "tags": []
   },
   "outputs": [
    {
     "name": "stderr",
     "output_type": "stream",
     "text": [
      "2021-10-17 20:23:43.478163: I tensorflow/stream_executor/platform/default/dso_loader.cc:49] Successfully opened dynamic library libcudart.so.11.0\n"
     ]
    }
   ],
   "source": [
    "import os, sys\n",
    "sys.path.append('../')\n",
    "os.chdir('../')\n",
    "\n",
    "import torch\n",
    "import shutil\n",
    "import random\n",
    "import numpy as np\n",
    "import pandas as pd\n",
    "from torch import optim\n",
    "from transformers import BartModel, GPT2LMHeadModel\n",
    "\n",
    "from indobenchmark import IndoNLGTokenizer\n",
    "from utils.train_eval import train, evaluate\n",
    "from utils.metrics import generation_metrics_fn\n",
    "from utils.forward_fn import forward_generation\n",
    "from utils.data_utils import MachineTranslationDataset, GenerationDataLoader"
   ]
  },
  {
   "cell_type": "code",
   "execution_count": 2,
   "id": "0598507a-1fc4-433e-bbce-1d5356b6e5b7",
   "metadata": {},
   "outputs": [],
   "source": [
    "###\n",
    "# common functions\n",
    "###\n",
    "def set_seed(seed):\n",
    "    random.seed(seed)\n",
    "    np.random.seed(seed)\n",
    "    torch.manual_seed(seed)\n",
    "    torch.cuda.manual_seed(seed)\n",
    "    \n",
    "def count_param(module, trainable=False):\n",
    "    if trainable:\n",
    "        return sum(p.numel() for p in module.parameters() if p.requires_grad)\n",
    "    else:\n",
    "        return sum(p.numel() for p in module.parameters())\n",
    "    \n",
    "# Set random seed\n",
    "set_seed(26092020)"
   ]
  },
  {
   "cell_type": "markdown",
   "id": "a7b9ab88-51d3-42dc-b982-954141c25270",
   "metadata": {},
   "source": [
    "# Load Model"
   ]
  },
  {
   "cell_type": "code",
   "execution_count": 3,
   "id": "fe2233c8-a1c6-421a-b7a1-3730e8200687",
   "metadata": {
    "scrolled": true,
    "tags": []
   },
   "outputs": [
    {
     "name": "stderr",
     "output_type": "stream",
     "text": [
      "Special tokens have been added in the vocabulary, make sure the associated word embedding are fine-tuned or trained.\n"
     ]
    }
   ],
   "source": [
    "# bart_model = BartModel.from_pretrained('indobenchmark/indobart')\n",
    "gpt_model = GPT2LMHeadModel.from_pretrained('indobenchmark/indogpt')\n",
    "tokenizer = IndoNLGTokenizer.from_pretrained('indobenchmark/indogpt')\n",
    "model = gpt_model"
   ]
  },
  {
   "cell_type": "code",
   "execution_count": 4,
   "id": "3c98e830-c0ba-4450-8471-7754c328f0ef",
   "metadata": {
    "scrolled": true,
    "tags": []
   },
   "outputs": [
    {
     "data": {
      "text/plain": [
       "GPT2LMHeadModel(\n",
       "  (transformer): GPT2Model(\n",
       "    (wte): Embedding(40005, 768)\n",
       "    (wpe): Embedding(1024, 768)\n",
       "    (drop): Dropout(p=0.1, inplace=False)\n",
       "    (h): ModuleList(\n",
       "      (0): Block(\n",
       "        (ln_1): LayerNorm((768,), eps=1e-05, elementwise_affine=True)\n",
       "        (attn): Attention(\n",
       "          (c_attn): Conv1D()\n",
       "          (c_proj): Conv1D()\n",
       "          (attn_dropout): Dropout(p=0.1, inplace=False)\n",
       "          (resid_dropout): Dropout(p=0.1, inplace=False)\n",
       "        )\n",
       "        (ln_2): LayerNorm((768,), eps=1e-05, elementwise_affine=True)\n",
       "        (mlp): MLP(\n",
       "          (c_fc): Conv1D()\n",
       "          (c_proj): Conv1D()\n",
       "          (dropout): Dropout(p=0.1, inplace=False)\n",
       "        )\n",
       "      )\n",
       "      (1): Block(\n",
       "        (ln_1): LayerNorm((768,), eps=1e-05, elementwise_affine=True)\n",
       "        (attn): Attention(\n",
       "          (c_attn): Conv1D()\n",
       "          (c_proj): Conv1D()\n",
       "          (attn_dropout): Dropout(p=0.1, inplace=False)\n",
       "          (resid_dropout): Dropout(p=0.1, inplace=False)\n",
       "        )\n",
       "        (ln_2): LayerNorm((768,), eps=1e-05, elementwise_affine=True)\n",
       "        (mlp): MLP(\n",
       "          (c_fc): Conv1D()\n",
       "          (c_proj): Conv1D()\n",
       "          (dropout): Dropout(p=0.1, inplace=False)\n",
       "        )\n",
       "      )\n",
       "      (2): Block(\n",
       "        (ln_1): LayerNorm((768,), eps=1e-05, elementwise_affine=True)\n",
       "        (attn): Attention(\n",
       "          (c_attn): Conv1D()\n",
       "          (c_proj): Conv1D()\n",
       "          (attn_dropout): Dropout(p=0.1, inplace=False)\n",
       "          (resid_dropout): Dropout(p=0.1, inplace=False)\n",
       "        )\n",
       "        (ln_2): LayerNorm((768,), eps=1e-05, elementwise_affine=True)\n",
       "        (mlp): MLP(\n",
       "          (c_fc): Conv1D()\n",
       "          (c_proj): Conv1D()\n",
       "          (dropout): Dropout(p=0.1, inplace=False)\n",
       "        )\n",
       "      )\n",
       "      (3): Block(\n",
       "        (ln_1): LayerNorm((768,), eps=1e-05, elementwise_affine=True)\n",
       "        (attn): Attention(\n",
       "          (c_attn): Conv1D()\n",
       "          (c_proj): Conv1D()\n",
       "          (attn_dropout): Dropout(p=0.1, inplace=False)\n",
       "          (resid_dropout): Dropout(p=0.1, inplace=False)\n",
       "        )\n",
       "        (ln_2): LayerNorm((768,), eps=1e-05, elementwise_affine=True)\n",
       "        (mlp): MLP(\n",
       "          (c_fc): Conv1D()\n",
       "          (c_proj): Conv1D()\n",
       "          (dropout): Dropout(p=0.1, inplace=False)\n",
       "        )\n",
       "      )\n",
       "      (4): Block(\n",
       "        (ln_1): LayerNorm((768,), eps=1e-05, elementwise_affine=True)\n",
       "        (attn): Attention(\n",
       "          (c_attn): Conv1D()\n",
       "          (c_proj): Conv1D()\n",
       "          (attn_dropout): Dropout(p=0.1, inplace=False)\n",
       "          (resid_dropout): Dropout(p=0.1, inplace=False)\n",
       "        )\n",
       "        (ln_2): LayerNorm((768,), eps=1e-05, elementwise_affine=True)\n",
       "        (mlp): MLP(\n",
       "          (c_fc): Conv1D()\n",
       "          (c_proj): Conv1D()\n",
       "          (dropout): Dropout(p=0.1, inplace=False)\n",
       "        )\n",
       "      )\n",
       "      (5): Block(\n",
       "        (ln_1): LayerNorm((768,), eps=1e-05, elementwise_affine=True)\n",
       "        (attn): Attention(\n",
       "          (c_attn): Conv1D()\n",
       "          (c_proj): Conv1D()\n",
       "          (attn_dropout): Dropout(p=0.1, inplace=False)\n",
       "          (resid_dropout): Dropout(p=0.1, inplace=False)\n",
       "        )\n",
       "        (ln_2): LayerNorm((768,), eps=1e-05, elementwise_affine=True)\n",
       "        (mlp): MLP(\n",
       "          (c_fc): Conv1D()\n",
       "          (c_proj): Conv1D()\n",
       "          (dropout): Dropout(p=0.1, inplace=False)\n",
       "        )\n",
       "      )\n",
       "      (6): Block(\n",
       "        (ln_1): LayerNorm((768,), eps=1e-05, elementwise_affine=True)\n",
       "        (attn): Attention(\n",
       "          (c_attn): Conv1D()\n",
       "          (c_proj): Conv1D()\n",
       "          (attn_dropout): Dropout(p=0.1, inplace=False)\n",
       "          (resid_dropout): Dropout(p=0.1, inplace=False)\n",
       "        )\n",
       "        (ln_2): LayerNorm((768,), eps=1e-05, elementwise_affine=True)\n",
       "        (mlp): MLP(\n",
       "          (c_fc): Conv1D()\n",
       "          (c_proj): Conv1D()\n",
       "          (dropout): Dropout(p=0.1, inplace=False)\n",
       "        )\n",
       "      )\n",
       "      (7): Block(\n",
       "        (ln_1): LayerNorm((768,), eps=1e-05, elementwise_affine=True)\n",
       "        (attn): Attention(\n",
       "          (c_attn): Conv1D()\n",
       "          (c_proj): Conv1D()\n",
       "          (attn_dropout): Dropout(p=0.1, inplace=False)\n",
       "          (resid_dropout): Dropout(p=0.1, inplace=False)\n",
       "        )\n",
       "        (ln_2): LayerNorm((768,), eps=1e-05, elementwise_affine=True)\n",
       "        (mlp): MLP(\n",
       "          (c_fc): Conv1D()\n",
       "          (c_proj): Conv1D()\n",
       "          (dropout): Dropout(p=0.1, inplace=False)\n",
       "        )\n",
       "      )\n",
       "      (8): Block(\n",
       "        (ln_1): LayerNorm((768,), eps=1e-05, elementwise_affine=True)\n",
       "        (attn): Attention(\n",
       "          (c_attn): Conv1D()\n",
       "          (c_proj): Conv1D()\n",
       "          (attn_dropout): Dropout(p=0.1, inplace=False)\n",
       "          (resid_dropout): Dropout(p=0.1, inplace=False)\n",
       "        )\n",
       "        (ln_2): LayerNorm((768,), eps=1e-05, elementwise_affine=True)\n",
       "        (mlp): MLP(\n",
       "          (c_fc): Conv1D()\n",
       "          (c_proj): Conv1D()\n",
       "          (dropout): Dropout(p=0.1, inplace=False)\n",
       "        )\n",
       "      )\n",
       "      (9): Block(\n",
       "        (ln_1): LayerNorm((768,), eps=1e-05, elementwise_affine=True)\n",
       "        (attn): Attention(\n",
       "          (c_attn): Conv1D()\n",
       "          (c_proj): Conv1D()\n",
       "          (attn_dropout): Dropout(p=0.1, inplace=False)\n",
       "          (resid_dropout): Dropout(p=0.1, inplace=False)\n",
       "        )\n",
       "        (ln_2): LayerNorm((768,), eps=1e-05, elementwise_affine=True)\n",
       "        (mlp): MLP(\n",
       "          (c_fc): Conv1D()\n",
       "          (c_proj): Conv1D()\n",
       "          (dropout): Dropout(p=0.1, inplace=False)\n",
       "        )\n",
       "      )\n",
       "      (10): Block(\n",
       "        (ln_1): LayerNorm((768,), eps=1e-05, elementwise_affine=True)\n",
       "        (attn): Attention(\n",
       "          (c_attn): Conv1D()\n",
       "          (c_proj): Conv1D()\n",
       "          (attn_dropout): Dropout(p=0.1, inplace=False)\n",
       "          (resid_dropout): Dropout(p=0.1, inplace=False)\n",
       "        )\n",
       "        (ln_2): LayerNorm((768,), eps=1e-05, elementwise_affine=True)\n",
       "        (mlp): MLP(\n",
       "          (c_fc): Conv1D()\n",
       "          (c_proj): Conv1D()\n",
       "          (dropout): Dropout(p=0.1, inplace=False)\n",
       "        )\n",
       "      )\n",
       "      (11): Block(\n",
       "        (ln_1): LayerNorm((768,), eps=1e-05, elementwise_affine=True)\n",
       "        (attn): Attention(\n",
       "          (c_attn): Conv1D()\n",
       "          (c_proj): Conv1D()\n",
       "          (attn_dropout): Dropout(p=0.1, inplace=False)\n",
       "          (resid_dropout): Dropout(p=0.1, inplace=False)\n",
       "        )\n",
       "        (ln_2): LayerNorm((768,), eps=1e-05, elementwise_affine=True)\n",
       "        (mlp): MLP(\n",
       "          (c_fc): Conv1D()\n",
       "          (c_proj): Conv1D()\n",
       "          (dropout): Dropout(p=0.1, inplace=False)\n",
       "        )\n",
       "      )\n",
       "    )\n",
       "    (ln_f): LayerNorm((768,), eps=1e-05, elementwise_affine=True)\n",
       "  )\n",
       "  (lm_head): Linear(in_features=768, out_features=40005, bias=False)\n",
       ")"
      ]
     },
     "execution_count": 4,
     "metadata": {},
     "output_type": "execute_result"
    }
   ],
   "source": [
    "model"
   ]
  },
  {
   "cell_type": "code",
   "execution_count": 5,
   "id": "e2992106-cf65-4804-a393-d0a49026a659",
   "metadata": {},
   "outputs": [
    {
     "data": {
      "text/plain": [
       "116566272"
      ]
     },
     "execution_count": 5,
     "metadata": {},
     "output_type": "execute_result"
    }
   ],
   "source": [
    "count_param(model)"
   ]
  },
  {
   "cell_type": "markdown",
   "id": "6b04ba0a-b746-4188-9f2c-4366a5dd5882",
   "metadata": {},
   "source": [
    "# Prepare Dataset"
   ]
  },
  {
   "cell_type": "code",
   "execution_count": 6,
   "id": "b4a860b4-72b7-4432-8d32-4e6aea69ff26",
   "metadata": {},
   "outputs": [],
   "source": [
    "# configs and args\n",
    "\n",
    "lr = 1e-4\n",
    "gamma = 0.9\n",
    "lower = True\n",
    "step_size = 1\n",
    "beam_size = 5\n",
    "max_norm = 10\n",
    "early_stop = 5\n",
    "device = 'cuda0'\n",
    "max_seq_len = 512\n",
    "grad_accumulate = 1\n",
    "no_special_token = False\n",
    "swap_source_target = True\n",
    "model_type = 'indo-gpt2' #or indo-bart\n",
    "valid_criterion = 'SacreBLEU'\n",
    "\n",
    "separator_id = 4\n",
    "speaker_1_id = 5\n",
    "speaker_2_id = 6\n",
    "\n",
    "train_batch_size = 8\n",
    "valid_batch_size = 8\n",
    "test_batch_size = 8\n",
    "\n",
    "if 'bart' in model_type:\n",
    "    source_lang = \"id_ID\"\n",
    "    target_lang = \"su_SU\"\n",
    "elif 'gpt' in model_type:\n",
    "    source_lang = \"[indonesian]\"\n",
    "    target_lang = \"[sundanese]\"\n",
    "\n",
    "optimizer = optim.Adam(model.parameters(), lr=lr)\n",
    "src_lid = tokenizer.special_tokens_to_ids[source_lang]\n",
    "tgt_lid = tokenizer.special_tokens_to_ids[target_lang]\n",
    "tokenizer.bos_token = target_lang\n",
    "model.config.decoder_start_token_id = tgt_lid\n",
    "\n",
    "# Make sure cuda is deterministic\n",
    "torch.backends.cudnn.deterministic = True\n",
    "\n",
    "# create directory\n",
    "model_dir = './save/MT_SUNIBS_INZNTV/example_id_su'\n",
    "if not os.path.exists(model_dir):\n",
    "    os.makedirs(model_dir, exist_ok=True)\n",
    "\n",
    "# set a specific cuda device\n",
    "if \"cuda\" in device:\n",
    "    torch.cuda.set_device(int(device[4:]))\n",
    "    device = \"cuda\"\n",
    "    model = model.cuda()"
   ]
  },
  {
   "cell_type": "code",
   "execution_count": 7,
   "id": "d5b2d855-7293-4577-861b-2235b7ac59f5",
   "metadata": {},
   "outputs": [],
   "source": [
    "train_dataset_path = './dataset/MT_SUNIBS_INZNTV/train_preprocess.json'\n",
    "valid_dataset_path = './dataset/MT_SUNIBS_INZNTV/valid_preprocess.json'\n",
    "test_dataset_path = './dataset/MT_SUNIBS_INZNTV/test_preprocess.json'\n",
    "\n",
    "train_dataset = MachineTranslationDataset(train_dataset_path, tokenizer, lowercase=lower, no_special_token=no_special_token, \n",
    "                                            speaker_1_id=speaker_1_id, speaker_2_id=speaker_2_id, separator_id=separator_id,\n",
    "                                            max_token_length=max_seq_len, swap_source_target=swap_source_target)\n",
    "valid_dataset = MachineTranslationDataset(valid_dataset_path, tokenizer, lowercase=lower, no_special_token=no_special_token, \n",
    "                                            speaker_1_id=speaker_1_id, speaker_2_id=speaker_2_id, separator_id=separator_id,\n",
    "                                            max_token_length=max_seq_len, swap_source_target=swap_source_target)\n",
    "test_dataset = MachineTranslationDataset(test_dataset_path, tokenizer, lowercase=lower, no_special_token=no_special_token, \n",
    "                                            speaker_1_id=speaker_1_id, speaker_2_id=speaker_2_id, separator_id=separator_id,\n",
    "                                            max_token_length=max_seq_len, swap_source_target=swap_source_target)\n",
    "\n",
    "train_loader = GenerationDataLoader(dataset=train_dataset, model_type=model_type, tokenizer=tokenizer, max_seq_len=max_seq_len, \n",
    "                                    batch_size=train_batch_size, src_lid_token_id=src_lid, tgt_lid_token_id=tgt_lid, num_workers=8, shuffle=True)  \n",
    "valid_loader = GenerationDataLoader(dataset=valid_dataset, model_type=model_type, tokenizer=tokenizer, max_seq_len=max_seq_len, \n",
    "                                    batch_size=valid_batch_size, src_lid_token_id=src_lid, tgt_lid_token_id=tgt_lid, num_workers=8, shuffle=False)\n",
    "test_loader = GenerationDataLoader(dataset=test_dataset, model_type=model_type, tokenizer=tokenizer, max_seq_len=max_seq_len, \n",
    "                                   batch_size=test_batch_size, src_lid_token_id=src_lid, tgt_lid_token_id=tgt_lid, num_workers=8, shuffle=False)"
   ]
  },
  {
   "cell_type": "markdown",
   "id": "fb7d5a15-702a-4905-baba-9b80e0d8950e",
   "metadata": {},
   "source": [
    "# Test model to generate sequences"
   ]
  },
  {
   "cell_type": "code",
   "execution_count": 8,
   "id": "05dcbc78-d5c8-4094-84e4-dd6b0abb35c8",
   "metadata": {},
   "outputs": [
    {
     "name": "stderr",
     "output_type": "stream",
     "text": [
      "Setting `pad_token_id` to `eos_token_id`:50256 for open-end generation.\n"
     ]
    },
    {
     "data": {
      "text/plain": [
       "'<s> aku adalah anak pertama dari tiga bersaudara. </s> aku lahir di kota kecil yang sama dengan ayahku.'"
      ]
     },
     "execution_count": 8,
     "metadata": {},
     "output_type": "execute_result"
    }
   ],
   "source": [
    "gpt_input = torch.LongTensor([tokenizer.encode('<s> aku adalah anak', add_special_tokens=False)])\n",
    "gpt_out = gpt_model.generate(gpt_input)\n",
    "tokenizer.decode(gpt_out[0])"
   ]
  },
  {
   "cell_type": "code",
   "execution_count": 9,
   "id": "deb2e5af-6aa8-40db-b331-b3cf4f8b4d8a",
   "metadata": {},
   "outputs": [
    {
     "name": "stderr",
     "output_type": "stream",
     "text": [
      "Setting `pad_token_id` to `eos_token_id`:50256 for open-end generation.\n"
     ]
    },
    {
     "data": {
      "text/plain": [
       "'<s> hai, bagaimana kabar kalian? semoga sehat selalu ya. kali ini saya akan membahas tentang cara membuat'"
      ]
     },
     "execution_count": 9,
     "metadata": {},
     "output_type": "execute_result"
    }
   ],
   "source": [
    "gpt_input = torch.LongTensor([tokenizer.encode('<s> hai, bagaimana kabar', add_special_tokens=False)])\n",
    "gpt_out = gpt_model.generate(gpt_input)\n",
    "tokenizer.decode(gpt_out[0])"
   ]
  },
  {
   "cell_type": "markdown",
   "id": "1c536a51-da36-4eb1-ad8d-3709ccf04b35",
   "metadata": {},
   "source": [
    "# Test model to translate"
   ]
  },
  {
   "cell_type": "code",
   "execution_count": 12,
   "id": "c7129644-069a-402f-9c5a-ff8d7ddc553f",
   "metadata": {},
   "outputs": [
    {
     "name": "stderr",
     "output_type": "stream",
     "text": [
      "TESTING... : 100%|███████████████████████████████████████████████████████████████████████████████████████████████████████████████████| 150/150 [28:08<00:00, 11.25s/it]\n"
     ]
    }
   ],
   "source": [
    "test_loss, test_metrics, test_hyp, test_label = evaluate(model, data_loader=test_loader, forward_fn=forward_generation, \n",
    "                                                         metrics_fn=generation_metrics_fn, model_type=model_type, \n",
    "                                                         tokenizer=tokenizer, beam_size=beam_size, \n",
    "                                                         max_seq_len=max_seq_len, is_test=True, \n",
    "                                                         device='cuda')"
   ]
  },
  {
   "cell_type": "code",
   "execution_count": 13,
   "id": "2b8d8625-b165-4a00-b232-fba3757a0ae1",
   "metadata": {},
   "outputs": [
    {
     "name": "stdout",
     "output_type": "stream",
     "text": [
      "== Prediction Result ==\n",
      "                                                 hyp  \\\n",
      "0                                                      \n",
      "1                                                      \n",
      "2                                                      \n",
      "3                                                  .   \n",
      "4  ilah apa yang dikatakan imam - im am kepala da...   \n",
      "\n",
      "                                               label  \n",
      "0  da teu terang naon - na on, tur can tangtu sim...  \n",
      "1    terus kabeh dal alah ar nepi ka sare ub euh na.  \n",
      "2  sabab urang mah darma dad am elan allah, anu g...  \n",
      "3  pikeun anu hat ena suci mah, sagala ge suci. s...  \n",
      "4  sanggeus leupas, petrus jeung yahya nep angan ...  \n",
      "\n",
      "== Model Performance ==\n",
      "           BLEU  SacreBLEU    ROUGE1    ROUGE2    ROUGEL  ROUGELsum\n",
      "count  1.000000   1.000000  1.000000  1.000000  1.000000   1.000000\n",
      "mean   0.183491   0.186992  0.726774  0.156468  0.702774   0.709424\n",
      "std         NaN        NaN       NaN       NaN       NaN        NaN\n",
      "min    0.183491   0.186992  0.726774  0.156468  0.702774   0.709424\n",
      "25%    0.183491   0.186992  0.726774  0.156468  0.702774   0.709424\n",
      "50%    0.183491   0.186992  0.726774  0.156468  0.702774   0.709424\n",
      "75%    0.183491   0.186992  0.726774  0.156468  0.702774   0.709424\n",
      "max    0.183491   0.186992  0.726774  0.156468  0.702774   0.709424\n"
     ]
    }
   ],
   "source": [
    "metrics_scores = []\n",
    "result_dfs = []\n",
    "\n",
    "metrics_scores.append(test_metrics)\n",
    "result_dfs.append(pd.DataFrame({\n",
    "    'hyp': test_hyp, \n",
    "    'label': test_label\n",
    "}))\n",
    "\n",
    "result_df = pd.concat(result_dfs)\n",
    "metric_df = pd.DataFrame.from_records(metrics_scores)\n",
    "\n",
    "print('== Prediction Result ==')\n",
    "print(result_df.head())\n",
    "print()\n",
    "\n",
    "print('== Model Performance ==')\n",
    "print(metric_df.describe())\n",
    "\n",
    "result_df.to_csv(model_dir + \"/prediction_result.csv\")\n",
    "metric_df.describe().to_csv(model_dir + \"/evaluation_result.csv\")"
   ]
  },
  {
   "cell_type": "markdown",
   "id": "77f680f4-c4a7-4b59-b3d3-6978107e669e",
   "metadata": {},
   "source": [
    "# Fine Tuning & Evaluation"
   ]
  },
  {
   "cell_type": "code",
   "execution_count": 18,
   "id": "43c9c26d-6768-4229-8ce1-6b306e7fbde0",
   "metadata": {},
   "outputs": [
    {
     "name": "stderr",
     "output_type": "stream",
     "text": [
      "(Epoch 1) TRAIN LOSS:2.6296 LR:0.00010000: 100%|█████████████████████████████████████████████████████████████████████████████████████| 746/746 [01:56<00:00,  6.42it/s]\n"
     ]
    },
    {
     "name": "stdout",
     "output_type": "stream",
     "text": [
      "(Epoch 1) TRAIN LOSS:2.6296 BLEU:24.57 SacreBLEU:26.26 ROUGE1:51.63 ROUGE2:22.12 ROUGEL:47.25 ROUGELsum:47.27 LR:0.00010000\n"
     ]
    },
    {
     "name": "stderr",
     "output_type": "stream",
     "text": [
      "VALID LOSS:2.9800: 100%|█████████████████████████████████████████████████████████████████████████████████████████████████████████████| 100/100 [00:04<00:00, 20.60it/s]\n"
     ]
    },
    {
     "name": "stdout",
     "output_type": "stream",
     "text": [
      "(Epoch 1) VALID LOSS:2.9800 BLEU:19.66 SacreBLEU:19.80 ROUGE1:47.40 ROUGE2:18.67 ROUGEL:42.88 ROUGELsum:42.88\n"
     ]
    },
    {
     "name": "stderr",
     "output_type": "stream",
     "text": [
      "(Epoch 2) TRAIN LOSS:1.9351 LR:0.00009000: 100%|█████████████████████████████████████████████████████████████████████████████████████| 746/746 [01:54<00:00,  6.51it/s]\n"
     ]
    },
    {
     "name": "stdout",
     "output_type": "stream",
     "text": [
      "(Epoch 2) TRAIN LOSS:1.9351 BLEU:31.44 SacreBLEU:32.80 ROUGE1:60.04 ROUGE2:31.40 ROUGEL:56.40 ROUGELsum:56.40 LR:0.00009000\n"
     ]
    },
    {
     "name": "stderr",
     "output_type": "stream",
     "text": [
      "VALID LOSS:3.0067: 100%|█████████████████████████████████████████████████████████████████████████████████████████████████████████████| 100/100 [00:04<00:00, 20.38it/s]\n"
     ]
    },
    {
     "name": "stdout",
     "output_type": "stream",
     "text": [
      "(Epoch 2) VALID LOSS:3.0067 BLEU:21.01 SacreBLEU:21.15 ROUGE1:48.19 ROUGE2:20.27 ROUGEL:43.86 ROUGELsum:43.87\n"
     ]
    },
    {
     "name": "stderr",
     "output_type": "stream",
     "text": [
      "(Epoch 3) TRAIN LOSS:1.3435 LR:0.00008100: 100%|█████████████████████████████████████████████████████████████████████████████████████| 746/746 [01:58<00:00,  6.30it/s]\n"
     ]
    },
    {
     "name": "stdout",
     "output_type": "stream",
     "text": [
      "(Epoch 3) TRAIN LOSS:1.3435 BLEU:41.75 SacreBLEU:42.59 ROUGE1:69.33 ROUGE2:44.35 ROUGEL:66.75 ROUGELsum:66.75 LR:0.00008100\n"
     ]
    },
    {
     "name": "stderr",
     "output_type": "stream",
     "text": [
      "VALID LOSS:3.1152: 100%|█████████████████████████████████████████████████████████████████████████████████████████████████████████████| 100/100 [00:04<00:00, 20.43it/s]\n"
     ]
    },
    {
     "name": "stdout",
     "output_type": "stream",
     "text": [
      "(Epoch 3) VALID LOSS:3.1152 BLEU:21.11 SacreBLEU:21.22 ROUGE1:48.97 ROUGE2:20.67 ROUGEL:44.11 ROUGELsum:44.14\n"
     ]
    },
    {
     "name": "stderr",
     "output_type": "stream",
     "text": [
      "(Epoch 4) TRAIN LOSS:0.8717 LR:0.00007290: 100%|█████████████████████████████████████████████████████████████████████████████████████| 746/746 [01:58<00:00,  6.29it/s]\n"
     ]
    },
    {
     "name": "stdout",
     "output_type": "stream",
     "text": [
      "(Epoch 4) TRAIN LOSS:0.8717 BLEU:55.12 SacreBLEU:55.45 ROUGE1:78.34 ROUGE2:59.40 ROUGEL:76.67 ROUGELsum:76.67 LR:0.00007290\n"
     ]
    },
    {
     "name": "stderr",
     "output_type": "stream",
     "text": [
      "VALID LOSS:3.2502: 100%|█████████████████████████████████████████████████████████████████████████████████████████████████████████████| 100/100 [00:04<00:00, 20.53it/s]\n"
     ]
    },
    {
     "name": "stdout",
     "output_type": "stream",
     "text": [
      "(Epoch 4) VALID LOSS:3.2502 BLEU:21.49 SacreBLEU:21.59 ROUGE1:48.71 ROUGE2:20.89 ROUGEL:44.06 ROUGELsum:44.05\n"
     ]
    },
    {
     "name": "stderr",
     "output_type": "stream",
     "text": [
      "(Epoch 5) TRAIN LOSS:0.5450 LR:0.00006561: 100%|█████████████████████████████████████████████████████████████████████████████████████| 746/746 [01:58<00:00,  6.29it/s]\n"
     ]
    },
    {
     "name": "stdout",
     "output_type": "stream",
     "text": [
      "(Epoch 5) TRAIN LOSS:0.5450 BLEU:68.19 SacreBLEU:68.05 ROUGE1:85.50 ROUGE2:72.89 ROUGEL:84.54 ROUGELsum:84.54 LR:0.00006561\n"
     ]
    },
    {
     "name": "stderr",
     "output_type": "stream",
     "text": [
      "VALID LOSS:3.3822: 100%|█████████████████████████████████████████████████████████████████████████████████████████████████████████████| 100/100 [00:04<00:00, 20.36it/s]\n"
     ]
    },
    {
     "name": "stdout",
     "output_type": "stream",
     "text": [
      "(Epoch 5) VALID LOSS:3.3822 BLEU:21.72 SacreBLEU:21.86 ROUGE1:48.80 ROUGE2:21.09 ROUGEL:44.35 ROUGELsum:44.35\n"
     ]
    },
    {
     "name": "stderr",
     "output_type": "stream",
     "text": [
      "(Epoch 6) TRAIN LOSS:0.3384 LR:0.00005905: 100%|█████████████████████████████████████████████████████████████████████████████████████| 746/746 [01:58<00:00,  6.30it/s]\n"
     ]
    },
    {
     "name": "stdout",
     "output_type": "stream",
     "text": [
      "(Epoch 6) TRAIN LOSS:0.3384 BLEU:78.53 SacreBLEU:78.09 ROUGE1:90.14 ROUGE2:82.37 ROUGEL:89.57 ROUGELsum:89.58 LR:0.00005905\n"
     ]
    },
    {
     "name": "stderr",
     "output_type": "stream",
     "text": [
      "VALID LOSS:3.4950: 100%|█████████████████████████████████████████████████████████████████████████████████████████████████████████████| 100/100 [00:04<00:00, 20.46it/s]\n"
     ]
    },
    {
     "name": "stdout",
     "output_type": "stream",
     "text": [
      "(Epoch 6) VALID LOSS:3.4950 BLEU:21.83 SacreBLEU:21.97 ROUGE1:49.02 ROUGE2:21.15 ROUGEL:44.55 ROUGELsum:44.56\n"
     ]
    },
    {
     "name": "stderr",
     "output_type": "stream",
     "text": [
      "(Epoch 7) TRAIN LOSS:0.2170 LR:0.00005314: 100%|█████████████████████████████████████████████████████████████████████████████████████| 746/746 [01:58<00:00,  6.31it/s]\n"
     ]
    },
    {
     "name": "stdout",
     "output_type": "stream",
     "text": [
      "(Epoch 7) TRAIN LOSS:0.2170 BLEU:84.71 SacreBLEU:84.09 ROUGE1:92.72 ROUGE2:87.69 ROUGEL:92.29 ROUGELsum:92.29 LR:0.00005314\n"
     ]
    },
    {
     "name": "stderr",
     "output_type": "stream",
     "text": [
      "VALID LOSS:3.6229: 100%|█████████████████████████████████████████████████████████████████████████████████████████████████████████████| 100/100 [00:05<00:00, 19.84it/s]\n"
     ]
    },
    {
     "name": "stdout",
     "output_type": "stream",
     "text": [
      "(Epoch 7) VALID LOSS:3.6229 BLEU:22.15 SacreBLEU:22.29 ROUGE1:49.01 ROUGE2:21.68 ROUGEL:44.58 ROUGELsum:44.57\n"
     ]
    },
    {
     "name": "stderr",
     "output_type": "stream",
     "text": [
      "(Epoch 8) TRAIN LOSS:0.1531 LR:0.00004783: 100%|█████████████████████████████████████████████████████████████████████████████████████| 746/746 [01:58<00:00,  6.31it/s]\n"
     ]
    },
    {
     "name": "stdout",
     "output_type": "stream",
     "text": [
      "(Epoch 8) TRAIN LOSS:0.1531 BLEU:87.97 SacreBLEU:87.26 ROUGE1:94.11 ROUGE2:90.41 ROUGEL:93.64 ROUGELsum:93.64 LR:0.00004783\n"
     ]
    },
    {
     "name": "stderr",
     "output_type": "stream",
     "text": [
      "VALID LOSS:3.6671: 100%|█████████████████████████████████████████████████████████████████████████████████████████████████████████████| 100/100 [00:04<00:00, 20.59it/s]\n"
     ]
    },
    {
     "name": "stdout",
     "output_type": "stream",
     "text": [
      "(Epoch 8) VALID LOSS:3.6671 BLEU:22.02 SacreBLEU:22.15 ROUGE1:49.20 ROUGE2:21.56 ROUGEL:44.64 ROUGELsum:44.67\n",
      "count stop: 1\n"
     ]
    },
    {
     "name": "stderr",
     "output_type": "stream",
     "text": [
      "(Epoch 9) TRAIN LOSS:0.1166 LR:0.00004305: 100%|█████████████████████████████████████████████████████████████████████████████████████| 746/746 [01:58<00:00,  6.28it/s]\n"
     ]
    },
    {
     "name": "stdout",
     "output_type": "stream",
     "text": [
      "(Epoch 9) TRAIN LOSS:0.1166 BLEU:89.53 SacreBLEU:88.69 ROUGE1:94.72 ROUGE2:91.79 ROUGEL:94.31 ROUGELsum:94.31 LR:0.00004305\n"
     ]
    },
    {
     "name": "stderr",
     "output_type": "stream",
     "text": [
      "VALID LOSS:3.7435: 100%|█████████████████████████████████████████████████████████████████████████████████████████████████████████████| 100/100 [00:04<00:00, 20.23it/s]\n"
     ]
    },
    {
     "name": "stdout",
     "output_type": "stream",
     "text": [
      "(Epoch 9) VALID LOSS:3.7435 BLEU:22.01 SacreBLEU:22.12 ROUGE1:48.96 ROUGE2:21.56 ROUGEL:44.57 ROUGELsum:44.59\n",
      "count stop: 2\n"
     ]
    },
    {
     "name": "stderr",
     "output_type": "stream",
     "text": [
      "(Epoch 10) TRAIN LOSS:0.0914 LR:0.00003874: 100%|████████████████████████████████████████████████████████████████████████████████████| 746/746 [01:57<00:00,  6.35it/s]\n"
     ]
    },
    {
     "name": "stdout",
     "output_type": "stream",
     "text": [
      "(Epoch 10) TRAIN LOSS:0.0914 BLEU:90.94 SacreBLEU:90.06 ROUGE1:95.22 ROUGE2:92.87 ROUGEL:94.82 ROUGELsum:94.82 LR:0.00003874\n"
     ]
    },
    {
     "name": "stderr",
     "output_type": "stream",
     "text": [
      "VALID LOSS:3.8147: 100%|█████████████████████████████████████████████████████████████████████████████████████████████████████████████| 100/100 [00:04<00:00, 20.22it/s]\n"
     ]
    },
    {
     "name": "stdout",
     "output_type": "stream",
     "text": [
      "(Epoch 10) VALID LOSS:3.8147 BLEU:22.18 SacreBLEU:22.31 ROUGE1:49.21 ROUGE2:21.50 ROUGEL:44.72 ROUGELsum:44.75\n"
     ]
    }
   ],
   "source": [
    "# Train\n",
    "\n",
    "n_epochs = 10\n",
    "\n",
    "train(model, train_loader=train_loader, valid_loader=valid_loader, optimizer=optimizer, \n",
    "      forward_fn=forward_generation, metrics_fn=generation_metrics_fn, valid_criterion=valid_criterion, \n",
    "      tokenizer=tokenizer, n_epochs=n_epochs, evaluate_every=1, early_stop=early_stop, \n",
    "      grad_accum=grad_accumulate, step_size=step_size, gamma=gamma, \n",
    "      max_norm=max_norm, model_type=model_type, beam_size=beam_size,\n",
    "      max_seq_len=max_seq_len, model_dir=model_dir, exp_id=0, fp16=\"\", device=device)"
   ]
  },
  {
   "cell_type": "code",
   "execution_count": 19,
   "id": "442293e2-628d-4fbb-acb2-8f49803120b0",
   "metadata": {},
   "outputs": [
    {
     "data": {
      "text/plain": [
       "<All keys matched successfully>"
      ]
     },
     "execution_count": 19,
     "metadata": {},
     "output_type": "execute_result"
    }
   ],
   "source": [
    "# Load best model\n",
    "model.load_state_dict(torch.load(model_dir + \"/best_model_0.th\"))"
   ]
  },
  {
   "cell_type": "code",
   "execution_count": 20,
   "id": "9fdc5583-a665-414d-acb5-17fcfc373e25",
   "metadata": {},
   "outputs": [
    {
     "name": "stderr",
     "output_type": "stream",
     "text": [
      "TESTING... : 100%|███████████████████████████████████████████████████████████████████████████████████████████████████████████████████| 150/150 [02:23<00:00,  1.05it/s]\n"
     ]
    }
   ],
   "source": [
    "# Evaluate\n",
    "test_loss, test_metrics, test_hyp, test_label = evaluate(model, data_loader=test_loader, forward_fn=forward_generation, \n",
    "                                                         metrics_fn=generation_metrics_fn, model_type=model_type, \n",
    "                                                         tokenizer=tokenizer, beam_size=beam_size, \n",
    "                                                         max_seq_len=max_seq_len, is_test=True, \n",
    "                                                         device='cuda')"
   ]
  },
  {
   "cell_type": "code",
   "execution_count": 21,
   "id": "0fa4fdd8-0364-442e-b93f-f4f668ec5bde",
   "metadata": {},
   "outputs": [
    {
     "name": "stdout",
     "output_type": "stream",
     "text": [
      "== Prediction Result ==\n",
      "                                                 hyp  \\\n",
      "0  simkuring nyarita kieu teh, lain ku dum eh ara...   \n",
      "1         br ak dal alah ar nepi ka sare ub euh eun.   \n",
      "2  sabab urang teh,  <0xE2> <0x80> <0x94> nu jadi...   \n",
      "3  nu w angk elang mah, kabeh oge, geus suci. tap...   \n",
      "4  geus kitu, petrus jeung yahya angkat ka imahna...   \n",
      "\n",
      "                                               label  \n",
      "0  da teu terang naon - na on, tur can tangtu sim...  \n",
      "1    terus kabeh dal alah ar nepi ka sare ub euh na.  \n",
      "2  sabab urang mah darma dad am elan allah, anu g...  \n",
      "3  pikeun anu hat ena suci mah, sagala ge suci. s...  \n",
      "4  sanggeus leupas, petrus jeung yahya nep angan ...  \n",
      "\n",
      "== Model Performance ==\n",
      "            BLEU  SacreBLEU     ROUGE1     ROUGE2     ROUGEL  ROUGELsum\n",
      "count   1.000000   1.000000   1.000000   1.000000   1.000000   1.000000\n",
      "mean   14.185724  14.180255  32.490315  15.192999  28.393299  28.389189\n",
      "std          NaN        NaN        NaN        NaN        NaN        NaN\n",
      "min    14.185724  14.180255  32.490315  15.192999  28.393299  28.389189\n",
      "25%    14.185724  14.180255  32.490315  15.192999  28.393299  28.389189\n",
      "50%    14.185724  14.180255  32.490315  15.192999  28.393299  28.389189\n",
      "75%    14.185724  14.180255  32.490315  15.192999  28.393299  28.389189\n",
      "max    14.185724  14.180255  32.490315  15.192999  28.393299  28.389189\n"
     ]
    }
   ],
   "source": [
    "metrics_scores = []\n",
    "result_dfs = []\n",
    "\n",
    "metrics_scores.append(test_metrics)\n",
    "result_dfs.append(pd.DataFrame({\n",
    "    'hyp': test_hyp, \n",
    "    'label': test_label\n",
    "}))\n",
    "\n",
    "result_df = pd.concat(result_dfs)\n",
    "metric_df = pd.DataFrame.from_records(metrics_scores)\n",
    "\n",
    "print('== Prediction Result ==')\n",
    "print(result_df.head())\n",
    "print()\n",
    "\n",
    "print('== Model Performance ==')\n",
    "print(metric_df.describe())\n",
    "\n",
    "result_df.to_csv(model_dir + \"/prediction_result.csv\")\n",
    "metric_df.describe().to_csv(model_dir + \"/evaluation_result.csv\")"
   ]
  }
 ],
 "metadata": {
  "kernelspec": {
   "display_name": "Python 3 (ipykernel)",
   "language": "python",
   "name": "python3"
  },
  "language_info": {
   "codemirror_mode": {
    "name": "ipython",
    "version": 3
   },
   "file_extension": ".py",
   "mimetype": "text/x-python",
   "name": "python",
   "nbconvert_exporter": "python",
   "pygments_lexer": "ipython3",
   "version": "3.8.8"
  }
 },
 "nbformat": 4,
 "nbformat_minor": 5
}
